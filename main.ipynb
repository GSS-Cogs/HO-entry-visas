{
 "cells": [
  {
   "cell_type": "code",
   "execution_count": 1,
   "metadata": {
    "scrolled": false
   },
   "outputs": [
    {
     "data": {
      "text/plain": [
       "\"Loading 'Entry clearance visas granted outside the UK data tables immigration statistics October to December 2017 volume 1'...\""
      ]
     },
     "metadata": {},
     "output_type": "display_data"
    },
    {
     "data": {
      "text/plain": [
       "'in 19s'"
      ]
     },
     "metadata": {},
     "output_type": "display_data"
    },
    {
     "data": {
      "text/plain": [
       "\"Processing 'Entry clearance visas granted outside the UK data tables immigration statistics October to December 2017 volume 1', sheet 'vi_05'\""
      ]
     },
     "metadata": {},
     "output_type": "display_data"
    },
    {
     "data": {
      "text/html": [
       "<div>\n",
       "<style scoped>\n",
       "    .dataframe tbody tr th:only-of-type {\n",
       "        vertical-align: middle;\n",
       "    }\n",
       "\n",
       "    .dataframe tbody tr th {\n",
       "        vertical-align: top;\n",
       "    }\n",
       "\n",
       "    .dataframe thead th {\n",
       "        text-align: right;\n",
       "    }\n",
       "</style>\n",
       "<table border=\"1\" class=\"dataframe\">\n",
       "  <thead>\n",
       "    <tr style=\"text-align: right;\">\n",
       "      <th></th>\n",
       "      <th>Geographical region</th>\n",
       "      <th>Country of nationality</th>\n",
       "      <th>Year</th>\n",
       "      <th>Value</th>\n",
       "    </tr>\n",
       "  </thead>\n",
       "  <tbody>\n",
       "  </tbody>\n",
       "</table>\n",
       "</div>"
      ],
      "text/plain": [
       "Empty DataFrame\n",
       "Columns: [Geographical region, Country of nationality, Year, Value]\n",
       "Index: []"
      ]
     },
     "metadata": {},
     "output_type": "display_data"
    },
    {
     "data": {
      "text/plain": [
       "['Asia Central',\n",
       " 'America North',\n",
       " 'Montserrat (British)',\n",
       " 'EU Other',\n",
       " 'Ireland',\n",
       " 'Korea (North)',\n",
       " 'Africa North',\n",
       " 'British overseas citizens',\n",
       " 'EU 8',\n",
       " 'Curacao',\n",
       " 'St. Martin (French Part)',\n",
       " 'United States',\n",
       " 'St. Pierre and Miquelon',\n",
       " 'Spain',\n",
       " 'Refugee',\n",
       " 'Palau',\n",
       " 'Cocos (Keeling) Islands',\n",
       " 'St. Vincent and the Grenadines',\n",
       " 'Bonaire, Sint Eustatius and Saba',\n",
       " 'Surinam',\n",
       " 'St. Helena (British)',\n",
       " 'Europe Other',\n",
       " 'Cook Islands',\n",
       " 'Occupied Palestinian Territories',\n",
       " 'Asia South East',\n",
       " 'Kiribati',\n",
       " 'Samoa',\n",
       " 'St. Maarten (Dutch Part)',\n",
       " 'Turks and Caicos Islands (British)',\n",
       " 'Central African Republic',\n",
       " 'Asia South',\n",
       " 'Burkina',\n",
       " 'Guinea-Bissau',\n",
       " 'Korea (South)',\n",
       " 'Other',\n",
       " 'Faroe Islands',\n",
       " 'Pitcairn Islands (British)',\n",
       " 'Falkland Islands (British)',\n",
       " 'Other and unknown',\n",
       " 'Wallis and Futuna',\n",
       " 'Kosovo',\n",
       " 'Cambodia',\n",
       " 'Virgin Islands (US)',\n",
       " 'Netherlands Antilles',\n",
       " 'St. Lucia',\n",
       " 'Cyprus',\n",
       " 'America Central and South',\n",
       " 'Cayman Islands (British)',\n",
       " 'Christmas Island',\n",
       " 'EU 2',\n",
       " 'Micronesia',\n",
       " 'American Samoa',\n",
       " 'Middle East',\n",
       " 'Africa Sub-Saharan',\n",
       " 'Niue',\n",
       " 'Sudan (South)',\n",
       " 'Gibraltar (British)',\n",
       " 'Burma',\n",
       " 'Serbia and Montenegro',\n",
       " 'Bermuda (British)',\n",
       " 'Bosnia and Herzegovina',\n",
       " 'EU 14',\n",
       " 'St. Kitts and Nevis',\n",
       " 'Cyprus (Northern part of)',\n",
       " 'Macau',\n",
       " 'Anguilla (British)',\n",
       " 'Asia East',\n",
       " 'Virgin Islands (British)',\n",
       " 'Former Yugoslavia']"
      ]
     },
     "metadata": {},
     "output_type": "display_data"
    },
    {
     "data": {
      "text/plain": [
       "\"Processing 'Entry clearance visas granted outside the UK data tables immigration statistics October to December 2017 volume 1', sheet 'v1_01_q'\""
      ]
     },
     "metadata": {},
     "output_type": "display_data"
    }
   ],
   "source": [
    "%run lib/scrape_govuk.ipynb\n",
    "metadata = scrape('https://www.gov.uk/government/statistics/immigration-statistics-october-to-december-2017-data-tables')\n",
    "\n",
    "import pyexcel\n",
    "from io import BytesIO\n",
    "import time\n",
    "\n",
    "ods_files = [f for f in metadata['files'] if f['type'] == 'ODS']\n",
    "\n",
    "out = Path('out')\n",
    "out.mkdir(exist_ok=True)\n",
    "\n",
    "def load_sheet(ods_file_info, sheet_name):\n",
    "    display(f\"Loading '{ods_file_info['title']}', sheet '{sheet_name}'...\")\n",
    "    start = time.time()\n",
    "    ods_file = BytesIO(session.get(ods_file_info['url']).content)\n",
    "    sheet = pyexcel.get_sheet(\n",
    "        file_content=ods_file,\n",
    "        file_type='ods',\n",
    "        sheet_name=sheet_name,\n",
    "        library='pyexcel-ods3'\n",
    "    )\n",
    "    display(f\"in {int(time.time() - start)}s\")\n",
    "    return sheet\n",
    "\n",
    "def load_book(ods_file_info):\n",
    "    display(f\"Loading '{ods_file_info['title']}'...\")\n",
    "    start = time.time()\n",
    "    ods_file = BytesIO(session.get(ods_file_info['url']).content)\n",
    "    book = pyexcel.get_book(\n",
    "        file_content=ods_file,\n",
    "        file_type='ods',\n",
    "        library='pyexcel-ods3'\n",
    "    )\n",
    "    display(f\"in {int(time.time() - start)}s\")\n",
    "    return book\n",
    "\n",
    "for ods_file_info in ods_files:\n",
    "    if ods_file_info['title'] == 'Entry clearance visas granted outside the UK data tables immigration statistics October to December 2017 volume 1':\n",
    "        book = load_book(ods_file_info)\n",
    "        data = book['vi_05']\n",
    "        display(f\"Processing '{ods_file_info['title']}', sheet 'vi_05'\")\n",
    "        %run \"Entry clearance visas granted by country of nationality(Vi_05).ipynb\"\n",
    "        entry_1 = tidy.copy()\n",
    "        data = book['vi_01_q']\n",
    "        display(f\"Processing '{ods_file_info['title']}', sheet 'v1_01_q'\")\n",
    "        %run \"Entry clearance visa applications and resolution by category ( vi_01_q).ipynb\"\n",
    "        entry_2 = tidy.copy()\n",
    "        entry_1.rename(columns={'Year': 'Period'}, inplace=True)\n",
    "        entry_1.replace(\n",
    "            {'Period': r'$([0-9]{4})^'}, {'Period': r'year/\\1'}, regex=True, inplace=True\n",
    "        )\n",
    "        for col in ['Type', 'Broad category', 'Applicant type', 'Category', 'Resolution']:\n",
    "            entry_1[col] = 'All'\n",
    "        # Todo: \"World\" or \"Not UK\"?\n",
    "        entry_2['Country of nationality'] = 'World'\n",
    "        pd.concat([entry_1, entry_2], sort=True).to_csv(out / 'entry_visas.csv', index=False)"
   ]
  }
 ],
 "metadata": {
  "kernelspec": {
   "display_name": "Python 3",
   "language": "python",
   "name": "python3"
  },
  "language_info": {
   "codemirror_mode": {
    "name": "ipython",
    "version": 3
   },
   "file_extension": ".py",
   "mimetype": "text/x-python",
   "name": "python",
   "nbconvert_exporter": "python",
   "pygments_lexer": "ipython3",
   "version": "3.6.6"
  }
 },
 "nbformat": 4,
 "nbformat_minor": 2
}
