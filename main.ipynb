{
 "cells": [
  {
   "cell_type": "code",
   "execution_count": 1,
   "metadata": {},
   "outputs": [
    {
     "data": {
      "text/markdown": [
       "## Immigration statistics, October to December 2017: data tables second edition\n",
       "\n",
       "Listing of the data tables included in 'Immigration statistics, October to December 2017’.\n",
       "\n",
       "### Description\n",
       "\n",
       "Listing of the data tables included in [‘Immigration Statistics, October to\n",
       "December 2017’](https://www.gov.uk/government/statistics/immigration-\n",
       "statistics-october-to-december-2017).\n",
       "\n",
       "Data is in yearly or quarterly divisions.\n",
       "\n",
       "To view and use ‘ODS’ files, OS X users can [download\n",
       "OpenOffice](http://www.openoffice.org/download/).\n",
       "\n",
       "\n",
       "\n",
       "### Distributions\n",
       "\n",
       "1. Sponsorship data tables immigration statistics October to December 2017 ([ODF Spreadsheet](https://www.gov.uk/government/uploads/system/uploads/attachment_data/file/683358/sponsorship-oct-dec-2017-tables.ods))\n",
       "1. Entry clearance visas granted outside the UK data tables immigration statistics October to December 2017 volume 1 ([ODF Spreadsheet](https://www.gov.uk/government/uploads/system/uploads/attachment_data/file/683359/entry-visas1-oct-dec-2017-tables.ods))\n",
       "1. Entry clearance visas granted outside the UK data tables immigration statistics October to December 2017 volume 2 ([ODF Spreadsheet](https://www.gov.uk/government/uploads/system/uploads/attachment_data/file/681238/entry-visas2-oct-dec-2017-tables.ods))\n",
       "1. Entry clearance visas granted outside the UK data tables immigration statistics October to December 2017 volume 3 ([ODF Spreadsheet](https://www.gov.uk/government/uploads/system/uploads/attachment_data/file/681241/entry-visas3-oct-dec-2017-tables.ods))\n",
       "1. Admissions data tables immigration statistics October to December 2017 ([ODF Spreadsheet](https://www.gov.uk/government/uploads/system/uploads/attachment_data/file/681242/admissions-oct-dec-2017-tables.ods))\n",
       "1. Extensions of stay data tables immigration statistics October to December 2017 ([ODF Spreadsheet](https://www.gov.uk/government/uploads/system/uploads/attachment_data/file/681243/extensions-oct-dec-2017-tables.ods))\n",
       "1. Settlement data tables immigration statistics October to December 2017 ([ODF Spreadsheet](https://www.gov.uk/government/uploads/system/uploads/attachment_data/file/681244/settlement-oct-dec-2017-tables.ods))\n",
       "1. Citizenship data tables immigration statistics October to December 2017 ([ODF Spreadsheet](https://www.gov.uk/government/uploads/system/uploads/attachment_data/file/683360/citizenship-oct-dec-2017-tables.ods))\n",
       "1. Asylum data tables immigration statistics October to December 2017 volume 1 second edition ([ODF Spreadsheet](https://www.gov.uk/government/uploads/system/uploads/attachment_data/file/691963/asylum1-oct-dec-2017-tables.ods))\n",
       "1. Asylum data tables immigration statistics October to December 2017 volume 2 second edition ([ODF Spreadsheet](https://www.gov.uk/government/uploads/system/uploads/attachment_data/file/691964/asylum2-oct-dec-2017-tables.ods))\n",
       "1. Asylum data tables immigration statistics October to December 2017 volume 3 ([ODF Spreadsheet](https://www.gov.uk/government/uploads/system/uploads/attachment_data/file/691965/asylum3-oct-dec-2017-tables.ods))\n",
       "1. Asylum data tables immigration statistics October to December 2017 volume 4 ([ODF Spreadsheet](https://www.gov.uk/government/uploads/system/uploads/attachment_data/file/691967/asylum4-oct-dec-2017-tables.ods))\n",
       "1. Asylum data tables immigration statistics October to December 2017 volume 5 ([ODF Spreadsheet](https://www.gov.uk/government/uploads/system/uploads/attachment_data/file/691969/asylum5-oct-dec-2017-tables.ods))\n",
       "1. Returns data tables immigration statistics October to December 2017 volume 1 ([ODF Spreadsheet](https://www.gov.uk/government/uploads/system/uploads/attachment_data/file/681246/returns1-oct-dec-2017-tables.ods))\n",
       "1. Returns data tables immigration statistics October to December 2017 volume 2 ([ODF Spreadsheet](https://www.gov.uk/government/uploads/system/uploads/attachment_data/file/683361/returns2-oct-dec-2017-tables.ods))\n",
       "1. Returns data tables immigration statistics October to December 2017 volume 3 ([ODF Spreadsheet](https://www.gov.uk/government/uploads/system/uploads/attachment_data/file/683362/returns3-oct-dec-2017-tables.ods))\n",
       "1. Returns data tables immigration statistics October to December 2017 volume 4 ([ODF Spreadsheet](https://www.gov.uk/government/uploads/system/uploads/attachment_data/file/681250/returns4-oct-dec-2017-tables.ods))\n",
       "1. Returns data tables immigration statistics October to December 2017 volume 5 ([ODF Spreadsheet](https://www.gov.uk/government/uploads/system/uploads/attachment_data/file/681251/returns5-oct-dec-2017-tables.ods))\n",
       "1. Detention data tables immigration statistics October to December 2017 ([ODF Spreadsheet](https://www.gov.uk/government/uploads/system/uploads/attachment_data/file/681703/detention-oct-dec-2017-tables.ods))\n",
       "1. European Economic Area data tables immigration statistics October to December 2017 ([ODF Spreadsheet](https://www.gov.uk/government/uploads/system/uploads/attachment_data/file/681253/eea-oct-dec-2017-tables.ods))\n"
      ],
      "text/plain": [
       "<gssutils.scrape.Scraper at 0x7f8a400a3208>"
      ]
     },
     "execution_count": 1,
     "metadata": {},
     "output_type": "execute_result"
    }
   ],
   "source": [
    "from gssutils import *\n",
    "\n",
    "scraper = Scraper('https://www.gov.uk/government/statistics/immigration-statistics-october-to-december-2017-data-tables')\n",
    "scraper"
   ]
  },
  {
   "cell_type": "code",
   "execution_count": 2,
   "metadata": {
    "scrolled": true
   },
   "outputs": [
    {
     "data": {
      "text/plain": [
       "{('All', 'All'),\n",
       " ('All', 'All (excluding Short-term study)'),\n",
       " ('All', 'All (excluding Visitors and Transit)'),\n",
       " ('All', 'All (excluding visitors and transit)'),\n",
       " ('All', 'All (including Short-term study)'),\n",
       " ('Dep. joining or accompanying', 'Joining or accompanying: Child'),\n",
       " ('Dep. joining or accompanying', 'Joining or accompanying: Other'),\n",
       " ('Dep. joining or accompanying', 'Joining or accompanying: Partner'),\n",
       " ('Family', 'Family: Child'),\n",
       " ('Family', 'Family: Child (for immediate settlement)'),\n",
       " ('Family', 'Family: Child (for settlement)'),\n",
       " ('Family', 'Family: Other'),\n",
       " ('Family', 'Family: Other (for immediate settlement)'),\n",
       " ('Family', 'Family: Other (for settlement)'),\n",
       " ('Family', 'Family: Partner'),\n",
       " ('Family', 'Family: Partner (for immediate settlement)'),\n",
       " ('Family', 'Family: Partner (for settlement)'),\n",
       " ('Non-PBS', 'All'),\n",
       " ('Non-PBS', 'Domestic workers in Private Households'),\n",
       " ('Non-PBS', 'Other permit free employment - Non-PBS'),\n",
       " ('Non-PBS', 'Short-term study (previously Student Visitors)'),\n",
       " ('Non-PBS', 'UK Ancestry'),\n",
       " ('Other', 'All'),\n",
       " ('Other', 'Other permit free employment not allocated'),\n",
       " ('Other settlement visas', 'Certificate of entitlement to right of abode'),\n",
       " ('Other settlement visas', 'Other settlement (indefinite leave)'),\n",
       " ('Other temporary visas', 'EEA family permits'),\n",
       " ('Other temporary visas', 'Other temporary'),\n",
       " ('Other temporary visas', 'Transit'),\n",
       " ('Other temporary visas', 'Visitors'),\n",
       " ('Tier 1 & pre-PBS equivalent', 'All'),\n",
       " ('Tier 1 & pre-PBS equivalent', 'International Graduates Scheme'),\n",
       " ('Tier 1 & pre-PBS equivalent', 'Other permit free employment - High value'),\n",
       " ('Tier 1 & pre-PBS equivalent',\n",
       "  'Other permit free employment - Highly skilled'),\n",
       " ('Tier 1 & pre-PBS equivalent', 'Tier 1 - Entrepreneurs'),\n",
       " ('Tier 1 & pre-PBS equivalent', 'Tier 1 - Exceptional Talent'),\n",
       " ('Tier 1 & pre-PBS equivalent', 'Tier 1 - General'),\n",
       " ('Tier 1 & pre-PBS equivalent', 'Tier 1 - Graduate entrepreneurs'),\n",
       " ('Tier 1 & pre-PBS equivalent', 'Tier 1 - Investors'),\n",
       " ('Tier 1 & pre-PBS equivalent', 'Tier 1 - Other'),\n",
       " ('Tier 1 & pre-PBS equivalent', 'Tier 1 - Post Study'),\n",
       " ('Tier 2 & pre-PBS equivalent', 'All'),\n",
       " ('Tier 2 & pre-PBS equivalent', 'Ministers of religion or missionary'),\n",
       " ('Tier 2 & pre-PBS equivalent', 'Other permit free employment - skilled'),\n",
       " ('Tier 2 & pre-PBS equivalent', 'Tier 2 - Dependant'),\n",
       " ('Tier 2 & pre-PBS equivalent', 'Tier 2 - General'),\n",
       " ('Tier 2 & pre-PBS equivalent', 'Tier 2 - Intra Company Transfers'),\n",
       " ('Tier 2 & pre-PBS equivalent', 'Tier 2 - Intra Company Transfers Long Term'),\n",
       " ('Tier 2 & pre-PBS equivalent',\n",
       "  'Tier 2 - Intra Company Transfers Short Term'),\n",
       " ('Tier 2 & pre-PBS equivalent', 'Tier 2 - Ministers of Religion'),\n",
       " ('Tier 2 & pre-PBS equivalent', 'Tier 2 - Sportsperson'),\n",
       " ('Tier 2 & pre-PBS equivalent', 'Tier 2 Dependant'),\n",
       " ('Tier 2 & pre-PBS equivalent', 'Work Permit Holders'),\n",
       " ('Tier 4 & pre-PBS equivalent', 'All'),\n",
       " ('Tier 4 & pre-PBS equivalent', 'Students'),\n",
       " ('Tier 4 & pre-PBS equivalent', 'Tier 4 - Child student'),\n",
       " ('Tier 4 & pre-PBS equivalent', 'Tier 4 - General student'),\n",
       " ('Tier 4 & pre-PBS equivalent', 'Trainees - doctors & dentists'),\n",
       " ('Tier 5 & pre-PBS equivalent', 'All'),\n",
       " ('Tier 5 & pre-PBS equivalent', 'Other permit free employment'),\n",
       " ('Tier 5 & pre-PBS equivalent', 'Private servants in Diplomatic Households'),\n",
       " ('Tier 5 & pre-PBS equivalent', 'Religious workers'),\n",
       " ('Tier 5 & pre-PBS equivalent', 'Tier 5 - Charity Workers'),\n",
       " ('Tier 5 & pre-PBS equivalent', 'Tier 5 - Creative and Sporting'),\n",
       " ('Tier 5 & pre-PBS equivalent', 'Tier 5 - Dependant'),\n",
       " ('Tier 5 & pre-PBS equivalent', 'Tier 5 - Government Authorised Exchange'),\n",
       " ('Tier 5 & pre-PBS equivalent', 'Tier 5 - International Agreement'),\n",
       " ('Tier 5 & pre-PBS equivalent', 'Tier 5 - Religious Workers'),\n",
       " ('Tier 5 & pre-PBS equivalent', 'Tier 5 - Youth Mobility'),\n",
       " ('Tier 5 & pre-PBS equivalent', 'Tier 5 Dependant'),\n",
       " ('Tier 5 & pre-PBS equivalent', 'Working holidaymakers')}"
      ]
     },
     "metadata": {},
     "output_type": "display_data"
    }
   ],
   "source": [
    "dist = scraper.distribution(\n",
    "    title='Entry clearance visas granted outside the UK data tables immigration statistics October to December 2017 volume 1'\n",
    ")\n",
    "book = dist.as_pandas()\n",
    "sheet = book['vi_05']\n",
    "%run \"Entry clearance visas granted by country of nationality(Vi_05).ipynb\"\n",
    "entry_1 = tidy.copy()\n",
    "\n",
    "sheet = book['vi_01_q']\n",
    "%run \"Entry clearance visa applications and resolution by category ( vi_01_q).ipynb\"\n",
    "entry_2 = tidy.copy()\n",
    "entry_1.rename(columns={'Year': 'Period'}, inplace=True)\n",
    "entry_1['Period'] = entry_1['Period'].astype(str)\n",
    "entry_1.replace(\n",
    "    {'Period': {r'([0-9]{4})': r'year/\\1'}}, regex=True, inplace=True\n",
    ")\n",
    "for col in ['Application type', 'Applicant type', 'Application category', 'Resolution']:\n",
    "    entry_1[col] = 'All'\n",
    "# Todo: \"World\" or \"Not UK\"?\n",
    "entry_2['Country of nationality'] = 'Rest of world'\n",
    "combined = pd.concat([entry_1, entry_2], sort=True)\n",
    "combined['Measure Type'] = 'Count'\n",
    "combined['Unit'] = 'Applications'"
   ]
  },
  {
   "cell_type": "code",
   "execution_count": 3,
   "metadata": {},
   "outputs": [],
   "source": [
    "from pathlib import Path\n",
    "out = Path('out')\n",
    "out.mkdir(exist_ok=True)\n",
    "\n",
    "combined.to_csv(out / 'entry_visas.csv', index=False)\n",
    "\n",
    "scraper.dataset.family = 'migration'\n",
    "\n",
    "with open(out / 'dataset.trig', 'wb') as metadata:\n",
    "    metadata.write(scraper.generate_trig())"
   ]
  },
  {
   "cell_type": "code",
   "execution_count": null,
   "metadata": {},
   "outputs": [],
   "source": []
  }
 ],
 "metadata": {
  "kernelspec": {
   "display_name": "Python 3",
   "language": "python",
   "name": "python3"
  },
  "language_info": {
   "codemirror_mode": {
    "name": "ipython",
    "version": 3
   },
   "file_extension": ".py",
   "mimetype": "text/x-python",
   "name": "python",
   "nbconvert_exporter": "python",
   "pygments_lexer": "ipython3",
   "version": "3.7.1"
  }
 },
 "nbformat": 4,
 "nbformat_minor": 2
}
