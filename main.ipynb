{
 "cells": [
  {
   "cell_type": "code",
   "execution_count": 1,
   "metadata": {},
   "outputs": [
    {
     "data": {
      "text/plain": [
       "\"Loading 'Entry clearance visas granted outside the UK data tables immigration statistics October to December 2017 volume 1'...\""
      ]
     },
     "metadata": {},
     "output_type": "display_data"
    },
    {
     "data": {
      "text/plain": [
       "'in 18s'"
      ]
     },
     "metadata": {},
     "output_type": "display_data"
    },
    {
     "data": {
      "text/plain": [
       "\"Processing 'Entry clearance visas granted outside the UK data tables immigration statistics October to December 2017 volume 1', sheet 'vi_05'\""
      ]
     },
     "metadata": {},
     "output_type": "display_data"
    },
    {
     "data": {
      "text/plain": [
       "\"Processing 'Entry clearance visas granted outside the UK data tables immigration statistics October to December 2017 volume 1', sheet 'v1_01_q'\""
      ]
     },
     "metadata": {},
     "output_type": "display_data"
    }
   ],
   "source": [
    "%run lib/scrape_govuk.ipynb\n",
    "metadata = scrape('https://www.gov.uk/government/statistics/immigration-statistics-october-to-december-2017-data-tables')\n",
    "\n",
    "import pyexcel\n",
    "from io import BytesIO\n",
    "import time\n",
    "\n",
    "ods_files = [f for f in metadata['files'] if f['type'] == 'ODS']\n",
    "\n",
    "out = Path('out')\n",
    "out.mkdir(exist_ok=True)\n",
    "\n",
    "def load_sheet(ods_file_info, sheet_name):\n",
    "    display(f\"Loading '{ods_file_info['title']}', sheet '{sheet_name}'...\")\n",
    "    start = time.time()\n",
    "    ods_file = BytesIO(session.get(ods_file_info['url']).content)\n",
    "    sheet = pyexcel.get_sheet(\n",
    "        file_content=ods_file,\n",
    "        file_type='ods',\n",
    "        sheet_name=sheet_name,\n",
    "        library='pyexcel-ods3'\n",
    "    )\n",
    "    display(f\"in {int(time.time() - start)}s\")\n",
    "    return sheet\n",
    "\n",
    "def load_book(ods_file_info):\n",
    "    display(f\"Loading '{ods_file_info['title']}'...\")\n",
    "    start = time.time()\n",
    "    ods_file = BytesIO(session.get(ods_file_info['url']).content)\n",
    "    book = pyexcel.get_book(\n",
    "        file_content=ods_file,\n",
    "        file_type='ods',\n",
    "        library='pyexcel-ods3'\n",
    "    )\n",
    "    display(f\"in {int(time.time() - start)}s\")\n",
    "    return book\n",
    "\n",
    "for ods_file_info in ods_files:\n",
    "    if ods_file_info['title'] == 'Entry clearance visas granted outside the UK data tables immigration statistics October to December 2017 volume 1':\n",
    "        book = load_book(ods_file_info)\n",
    "        data = book['vi_05']\n",
    "        display(f\"Processing '{ods_file_info['title']}', sheet 'vi_05'\")\n",
    "        %run \"Entry clearance visas granted by country of nationality(Vi_05).ipynb\"\n",
    "        entry_1 = tidy.copy()\n",
    "        data = book['vi_01_q']\n",
    "        display(f\"Processing '{ods_file_info['title']}', sheet 'v1_01_q'\")\n",
    "        %run \"Entry clearance visa applications and resolution by category ( vi_01_q).ipynb\"\n",
    "        entry_2 = tidy.copy()\n",
    "        entry_1.rename(columns={'Year': 'Period'}, inplace=True)\n",
    "        entry_1.replace(\n",
    "            {'Period': r'$([0-9]{4})^'}, {'Period': r'year/\\1'}, regex=True, inplace=True\n",
    "        )\n",
    "        for col in ['Application type', 'Applicant type', 'Application category', 'Resolution']:\n",
    "            entry_1[col] = 'All'\n",
    "        # Todo: \"World\" or \"Not UK\"?\n",
    "        entry_2['Country of nationality'] = 'Rest of world'\n",
    "        pd.concat([entry_1, entry_2], sort=True).to_csv(out / 'entry_visas.csv', index=False)"
   ]
  },
  {
   "cell_type": "code",
   "execution_count": null,
   "metadata": {},
   "outputs": [],
   "source": []
  }
 ],
 "metadata": {
  "kernelspec": {
   "display_name": "Python 3",
   "language": "python",
   "name": "python3"
  },
  "language_info": {
   "codemirror_mode": {
    "name": "ipython",
    "version": 3
   },
   "file_extension": ".py",
   "mimetype": "text/x-python",
   "name": "python",
   "nbconvert_exporter": "python",
   "pygments_lexer": "ipython3",
   "version": "3.6.6"
  }
 },
 "nbformat": 4,
 "nbformat_minor": 2
}
